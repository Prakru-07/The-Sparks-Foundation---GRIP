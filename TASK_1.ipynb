{
  "nbformat": 4,
  "nbformat_minor": 0,
  "metadata": {
    "colab": {
      "name": "TASK-1.ipynb",
      "provenance": [],
      "authorship_tag": "ABX9TyNSr7G7YR40NtEQYEKU3szE",
      "include_colab_link": true
    },
    "kernelspec": {
      "name": "python3",
      "display_name": "Python 3"
    },
    "language_info": {
      "name": "python"
    }
  },
  "cells": [
    {
      "cell_type": "markdown",
      "metadata": {
        "id": "view-in-github",
        "colab_type": "text"
      },
      "source": [
        "<a href=\"https://colab.research.google.com/github/Prakru-07/The-Sparks-Foundation---GRIP/blob/main/TASK_1.ipynb\" target=\"_parent\"><img src=\"https://colab.research.google.com/assets/colab-badge.svg\" alt=\"Open In Colab\"/></a>"
      ]
    },
    {
      "cell_type": "markdown",
      "metadata": {
        "id": "1xk1NWprjE_q"
      },
      "source": [
        "THE SPARKS FOUNDATION.\n",
        "\n",
        "NAME : PRAKRUTHI.P\n",
        "\n",
        "DATA SCIENCE AND BUSINESS ANALYTICS INTERN \n",
        "\n"
      ]
    },
    {
      "cell_type": "markdown",
      "metadata": {
        "id": "l5y3JQ5glYdp"
      },
      "source": [
        "Task 1 : Prediction Using Supervised ML\n",
        "Problem statement:\n",
        "1. predict the percentage of an student based on the no. of study hours.\n",
        "2. This is a simple linear regression task as it involves just 2 variables.\n",
        "3. What will be predicted score if a student studies for9.25 hrs/day ?\n",
        "\n",
        "Dataset: http://bit.ly/w-data\n"
      ]
    },
    {
      "cell_type": "markdown",
      "metadata": {
        "id": "L7uO_c7OpAfk"
      },
      "source": [
        "Importing libraries"
      ]
    },
    {
      "cell_type": "code",
      "metadata": {
        "id": "2g5d8vWvpDGB"
      },
      "source": [
        "# importing the required libraries\n",
        "import pandas as pd\n",
        "import numpy as np\n",
        "import matplotlib.pyplot as plt \n",
        "import seaborn as sns\n",
        "from sklearn.model_selection import train_test_split\n",
        "from sklearn.linear_model import LinearRegression\n",
        "from sklearn.metrics import mean_absolute_error\n",
        "from sklearn import metrics"
      ],
      "execution_count": 1,
      "outputs": []
    },
    {
      "cell_type": "markdown",
      "metadata": {
        "id": "RARvYpVBpOAr"
      },
      "source": [
        "\n",
        "Importing data sets"
      ]
    },
    {
      "cell_type": "code",
      "metadata": {
        "id": "YJMt2sIkpyFa",
        "colab": {
          "base_uri": "https://localhost:8080/",
          "height": 204
        },
        "outputId": "6ab3b095-ab55-4078-a7d1-588c76f71a65"
      },
      "source": [
        "# Reading the Data \n",
        "data = pd.read_csv('http://bit.ly/w-data')\n",
        "data.head()"
      ],
      "execution_count": 2,
      "outputs": [
        {
          "output_type": "execute_result",
          "data": {
            "text/html": [
              "<div>\n",
              "<style scoped>\n",
              "    .dataframe tbody tr th:only-of-type {\n",
              "        vertical-align: middle;\n",
              "    }\n",
              "\n",
              "    .dataframe tbody tr th {\n",
              "        vertical-align: top;\n",
              "    }\n",
              "\n",
              "    .dataframe thead th {\n",
              "        text-align: right;\n",
              "    }\n",
              "</style>\n",
              "<table border=\"1\" class=\"dataframe\">\n",
              "  <thead>\n",
              "    <tr style=\"text-align: right;\">\n",
              "      <th></th>\n",
              "      <th>Hours</th>\n",
              "      <th>Scores</th>\n",
              "    </tr>\n",
              "  </thead>\n",
              "  <tbody>\n",
              "    <tr>\n",
              "      <th>0</th>\n",
              "      <td>2.5</td>\n",
              "      <td>21</td>\n",
              "    </tr>\n",
              "    <tr>\n",
              "      <th>1</th>\n",
              "      <td>5.1</td>\n",
              "      <td>47</td>\n",
              "    </tr>\n",
              "    <tr>\n",
              "      <th>2</th>\n",
              "      <td>3.2</td>\n",
              "      <td>27</td>\n",
              "    </tr>\n",
              "    <tr>\n",
              "      <th>3</th>\n",
              "      <td>8.5</td>\n",
              "      <td>75</td>\n",
              "    </tr>\n",
              "    <tr>\n",
              "      <th>4</th>\n",
              "      <td>3.5</td>\n",
              "      <td>30</td>\n",
              "    </tr>\n",
              "  </tbody>\n",
              "</table>\n",
              "</div>"
            ],
            "text/plain": [
              "   Hours  Scores\n",
              "0    2.5      21\n",
              "1    5.1      47\n",
              "2    3.2      27\n",
              "3    8.5      75\n",
              "4    3.5      30"
            ]
          },
          "metadata": {},
          "execution_count": 2
        }
      ]
    },
    {
      "cell_type": "code",
      "metadata": {
        "id": "hU8rAvAip3GP",
        "colab": {
          "base_uri": "https://localhost:8080/",
          "height": 297
        },
        "outputId": "3dce11c2-85ac-4d58-c754-8efe45907f19"
      },
      "source": [
        "#describing entire data\n",
        "data.describe(include='all')"
      ],
      "execution_count": 3,
      "outputs": [
        {
          "output_type": "execute_result",
          "data": {
            "text/html": [
              "<div>\n",
              "<style scoped>\n",
              "    .dataframe tbody tr th:only-of-type {\n",
              "        vertical-align: middle;\n",
              "    }\n",
              "\n",
              "    .dataframe tbody tr th {\n",
              "        vertical-align: top;\n",
              "    }\n",
              "\n",
              "    .dataframe thead th {\n",
              "        text-align: right;\n",
              "    }\n",
              "</style>\n",
              "<table border=\"1\" class=\"dataframe\">\n",
              "  <thead>\n",
              "    <tr style=\"text-align: right;\">\n",
              "      <th></th>\n",
              "      <th>Hours</th>\n",
              "      <th>Scores</th>\n",
              "    </tr>\n",
              "  </thead>\n",
              "  <tbody>\n",
              "    <tr>\n",
              "      <th>count</th>\n",
              "      <td>25.000000</td>\n",
              "      <td>25.000000</td>\n",
              "    </tr>\n",
              "    <tr>\n",
              "      <th>mean</th>\n",
              "      <td>5.012000</td>\n",
              "      <td>51.480000</td>\n",
              "    </tr>\n",
              "    <tr>\n",
              "      <th>std</th>\n",
              "      <td>2.525094</td>\n",
              "      <td>25.286887</td>\n",
              "    </tr>\n",
              "    <tr>\n",
              "      <th>min</th>\n",
              "      <td>1.100000</td>\n",
              "      <td>17.000000</td>\n",
              "    </tr>\n",
              "    <tr>\n",
              "      <th>25%</th>\n",
              "      <td>2.700000</td>\n",
              "      <td>30.000000</td>\n",
              "    </tr>\n",
              "    <tr>\n",
              "      <th>50%</th>\n",
              "      <td>4.800000</td>\n",
              "      <td>47.000000</td>\n",
              "    </tr>\n",
              "    <tr>\n",
              "      <th>75%</th>\n",
              "      <td>7.400000</td>\n",
              "      <td>75.000000</td>\n",
              "    </tr>\n",
              "    <tr>\n",
              "      <th>max</th>\n",
              "      <td>9.200000</td>\n",
              "      <td>95.000000</td>\n",
              "    </tr>\n",
              "  </tbody>\n",
              "</table>\n",
              "</div>"
            ],
            "text/plain": [
              "           Hours     Scores\n",
              "count  25.000000  25.000000\n",
              "mean    5.012000  51.480000\n",
              "std     2.525094  25.286887\n",
              "min     1.100000  17.000000\n",
              "25%     2.700000  30.000000\n",
              "50%     4.800000  47.000000\n",
              "75%     7.400000  75.000000\n",
              "max     9.200000  95.000000"
            ]
          },
          "metadata": {},
          "execution_count": 3
        }
      ]
    },
    {
      "cell_type": "code",
      "metadata": {
        "id": "FYJw0NZGq4kq",
        "colab": {
          "base_uri": "https://localhost:8080/"
        },
        "outputId": "736471bc-6e27-4707-c058-6184ad65ce27"
      },
      "source": [
        "data.isnull().sum()"
      ],
      "execution_count": 4,
      "outputs": [
        {
          "output_type": "execute_result",
          "data": {
            "text/plain": [
              "Hours     0\n",
              "Scores    0\n",
              "dtype: int64"
            ]
          },
          "metadata": {},
          "execution_count": 4
        }
      ]
    },
    {
      "cell_type": "markdown",
      "metadata": {
        "id": "Klg8P3KWq8Ug"
      },
      "source": [
        "Visualization of data"
      ]
    },
    {
      "cell_type": "code",
      "metadata": {
        "id": "fHuHungWrKjM",
        "colab": {
          "base_uri": "https://localhost:8080/",
          "height": 302
        },
        "outputId": "f5a62456-b754-417b-b3cc-c57906bf9490"
      },
      "source": [
        "##ploting Scatter plot\n",
        "plt.xlabel('Hours',fontsize=15, fontweight = 'bold')\n",
        "plt.ylabel('Scores',fontsize=15, fontweight = 'bold')\n",
        "plt.title('Hours studied vs Score', fontsize=15, fontweight ='bold')\n",
        "plt.scatter(data.Hours,data.Scores,color='blue')\n",
        "plt.show()"
      ],
      "execution_count": 5,
      "outputs": [
        {
          "output_type": "display_data",
          "data": {
            "image/png": "[encoded data removed]",
            "text/plain": [
              "<Figure size 432x288 with 1 Axes>"
            ]
          },
          "metadata": {
            "needs_background": "light"
          }
        }
      ]
    },
    {
      "cell_type": "code",
      "metadata": {
        "id": "O6Fl_tP_rPxZ",
        "colab": {
          "base_uri": "https://localhost:8080/"
        },
        "outputId": "8a8d8091-dfcf-4053-ab86-0e74aa244ad1"
      },
      "source": [
        "X = data.iloc[:,:-1].values\n",
        "Y = data.iloc[:,1].values\n",
        "print(X)\n",
        "print(Y)"
      ],
      "execution_count": 6,
      "outputs": [
        {
          "output_type": "stream",
          "name": "stdout",
          "text": [
            "[[2.5]\n",
            " [5.1]\n",
            " [3.2]\n",
            " [8.5]\n",
            " [3.5]\n",
            " [1.5]\n",
            " [9.2]\n",
            " [5.5]\n",
            " [8.3]\n",
            " [2.7]\n",
            " [7.7]\n",
            " [5.9]\n",
            " [4.5]\n",
            " [3.3]\n",
            " [1.1]\n",
            " [8.9]\n",
            " [2.5]\n",
            " [1.9]\n",
            " [6.1]\n",
            " [7.4]\n",
            " [2.7]\n",
            " [4.8]\n",
            " [3.8]\n",
            " [6.9]\n",
            " [7.8]]\n",
            "[21 47 27 75 30 20 88 60 81 25 85 62 41 42 17 95 30 24 67 69 30 54 35 76\n",
            " 86]\n"
          ]
        }
      ]
    },
    {
      "cell_type": "markdown",
      "metadata": {
        "id": "Kn-uszS4rVvu"
      },
      "source": [
        "Preparing Data by splitting into train and test sets."
      ]
    },
    {
      "cell_type": "code",
      "metadata": {
        "id": "SNRSWAAprWxD"
      },
      "source": [
        "X_train,X_test,Y_train,Y_test = train_test_split(X,Y,random_state = 0,test_size=0.2)"
      ],
      "execution_count": 7,
      "outputs": []
    },
    {
      "cell_type": "code",
      "metadata": {
        "id": "Vu-mUdlNra5-",
        "colab": {
          "base_uri": "https://localhost:8080/"
        },
        "outputId": "e7808378-41bc-41be-c935-956ebb133b11"
      },
      "source": [
        "print(\"X train.shape =\", X_train.shape)\n",
        "print(\"Y train.shape =\", Y_train.shape)\n",
        "print(\"X test.shape  =\", X_test.shape)\n",
        "print(\"Y test.shape  =\", Y_test.shape)"
      ],
      "execution_count": 8,
      "outputs": [
        {
          "output_type": "stream",
          "name": "stdout",
          "text": [
            "X train.shape = (20, 1)\n",
            "Y train.shape = (20,)\n",
            "X test.shape  = (5, 1)\n",
            "Y test.shape  = (5,)\n"
          ]
        }
      ]
    },
    {
      "cell_type": "markdown",
      "metadata": {
        "id": "J1qIfwLirg4_"
      },
      "source": [
        "Model Training"
      ]
    },
    {
      "cell_type": "code",
      "metadata": {
        "id": "wVFIbUH0rhyc",
        "colab": {
          "base_uri": "https://localhost:8080/"
        },
        "outputId": "32c18d80-3353-4e72-b016-06368f398915"
      },
      "source": [
        "linreg=LinearRegression()\n",
        "linreg.fit(X_train,Y_train)"
      ],
      "execution_count": 9,
      "outputs": [
        {
          "output_type": "execute_result",
          "data": {
            "text/plain": [
              "LinearRegression(copy_X=True, fit_intercept=True, n_jobs=None, normalize=False)"
            ]
          },
          "metadata": {},
          "execution_count": 9
        }
      ]
    },
    {
      "cell_type": "code",
      "metadata": {
        "id": "sRlbTYcDrkuK",
        "colab": {
          "base_uri": "https://localhost:8080/"
        },
        "outputId": "8839cd6c-e99d-44b0-f81f-96f7dac99184"
      },
      "source": [
        "print(\"B0 =\",linreg.intercept_,\"\\nB1 =\",linreg.coef_)"
      ],
      "execution_count": 10,
      "outputs": [
        {
          "output_type": "stream",
          "name": "stdout",
          "text": [
            "B0 = 2.018160041434662 \n",
            "B1 = [9.91065648]\n"
          ]
        }
      ]
    },
    {
      "cell_type": "code",
      "metadata": {
        "id": "bG3toZt5rnb5",
        "colab": {
          "base_uri": "https://localhost:8080/",
          "height": 302
        },
        "outputId": "038539ca-2f7b-4730-c6c5-34514a135807"
      },
      "source": [
        "\n",
        "#Plotting on train data\n",
        "import matplotlib.pyplot as plt\n",
        "plt.scatter(X,Y,color='red')\n",
        "line = linreg.coef_*X+linreg.intercept_\n",
        "plt.plot(X,line,color='black')\n",
        "plt.xlabel(\"Hours\",fontsize=15, fontweight = 'bold')\n",
        "plt.ylabel(\"Scores\",fontsize=15, fontweight = 'bold')\n",
        "plt.title(\"Regression Line(Train set)\",fontsize=15, fontweight = 'bold')\n",
        "plt.show()"
      ],
      "execution_count": 11,
      "outputs": [
        {
          "output_type": "display_data",
          "data": {
            "image/png": "[encoded data removed]",
            "text/plain": [
              "<Figure size 432x288 with 1 Axes>"
            ]
          },
          "metadata": {
            "needs_background": "light"
          }
        }
      ]
    },
    {
      "cell_type": "markdown",
      "metadata": {
        "id": "OL1nWmcPrsOZ"
      },
      "source": [
        "TEST DATA"
      ]
    },
    {
      "cell_type": "code",
      "metadata": {
        "id": "EZWV8zFmrs4P",
        "colab": {
          "base_uri": "https://localhost:8080/"
        },
        "outputId": "e33c80fe-6eb8-4083-91e6-2ebd68a0aedf"
      },
      "source": [
        "#Predicting the Scores for test data\n",
        "Y_pred=linreg.predict(X_test)\n",
        "print(Y_pred)"
      ],
      "execution_count": 12,
      "outputs": [
        {
          "output_type": "stream",
          "name": "stdout",
          "text": [
            "[16.88414476 33.73226078 75.357018   26.79480124 60.49103328]\n"
          ]
        }
      ]
    },
    {
      "cell_type": "code",
      "metadata": {
        "id": "n6kuCyu5rvlf",
        "colab": {
          "base_uri": "https://localhost:8080/",
          "height": 302
        },
        "outputId": "80ceceba-0637-4d8d-b3ab-1174889ef242"
      },
      "source": [
        "#Plotting line on test data\n",
        "plt.plot(X_test,Y_pred,color='black')\n",
        "plt.scatter(X_test,Y_test,color='red')\n",
        "plt.xlabel(\"Hours\",fontsize=15, fontweight = 'bold')\n",
        "plt.ylabel(\"Scores\",fontsize=15, fontweight = 'bold')\n",
        "plt.title(\"Regression Line(Test set)\",fontsize=15, fontweight = 'bold')\n",
        "plt.show()"
      ],
      "execution_count": 13,
      "outputs": [
        {
          "output_type": "display_data",
          "data": {
            "image/png": "[encoded data removed]",
            "text/plain": [
              "<Figure size 432x288 with 1 Axes>"
            ]
          },
          "metadata": {
            "needs_background": "light"
          }
        }
      ]
    },
    {
      "cell_type": "markdown",
      "metadata": {
        "id": "ZNR3w1jCr0Xc"
      },
      "source": [
        "ACCURACY SCORE"
      ]
    },
    {
      "cell_type": "code",
      "metadata": {
        "id": "PHBfGC5Ar067",
        "colab": {
          "base_uri": "https://localhost:8080/"
        },
        "outputId": "c3be4332-9cbc-4508-e2d5-ee09f5005fbb"
      },
      "source": [
        "metrics.r2_score(Y_test,Y_pred)"
      ],
      "execution_count": 14,
      "outputs": [
        {
          "output_type": "execute_result",
          "data": {
            "text/plain": [
              "0.9454906892105354"
            ]
          },
          "metadata": {},
          "execution_count": 14
        }
      ]
    },
    {
      "cell_type": "markdown",
      "metadata": {
        "id": "6iPJRdDQr4rX"
      },
      "source": [
        "FINAL PREDICTION"
      ]
    },
    {
      "cell_type": "code",
      "metadata": {
        "id": "gKxCRHtsr8VH",
        "colab": {
          "base_uri": "https://localhost:8080/"
        },
        "outputId": "4a069b70-0566-4440-b457-2a12777b901d"
      },
      "source": [
        "Score_prediction = linreg.predict([[9.25]])\n",
        "print(\"Predicted score for a student studying 9.25 hours :\",Score_prediction)"
      ],
      "execution_count": 15,
      "outputs": [
        {
          "output_type": "stream",
          "name": "stdout",
          "text": [
            "Predicted score for a student studying 9.25 hours : [93.69173249]\n"
          ]
        }
      ]
    },
    {
      "cell_type": "markdown",
      "metadata": {
        "id": "NEhXX9oCsAU6"
      },
      "source": [
        "CONCLUSION"
      ]
    },
    {
      "cell_type": "markdown",
      "metadata": {
        "id": "PPE-d0YtsA8W"
      },
      "source": [
        "From the above results we can say that if students studied for 9.25 hours then they may get approx 93.69 percentage"
      ]
    }
  ]
}